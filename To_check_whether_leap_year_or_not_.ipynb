{
  "nbformat": 4,
  "nbformat_minor": 0,
  "metadata": {
    "colab": {
      "provenance": []
    },
    "kernelspec": {
      "name": "python3",
      "display_name": "Python 3"
    },
    "language_info": {
      "name": "python"
    }
  },
  "cells": [
    {
      "cell_type": "code",
      "execution_count": null,
      "metadata": {
        "id": "yG35Ppv8tB_l"
      },
      "outputs": [],
      "source": [
        "n=int(input('enter the year :'))\n",
        "if (n%400==0) or (n%100==0):\n",
        "  print(n,'is century leap year')\n",
        "elif (n%100!=0) & (n%4==0):\n",
        "  print(n,'is leap year')\n",
        "else:\n",
        "  print(n,'is not a leap year')"
      ]
    },
    {
      "cell_type": "code",
      "source": [],
      "metadata": {
        "id": "6w4Awv6FtXcp"
      },
      "execution_count": null,
      "outputs": []
    }
  ]
}